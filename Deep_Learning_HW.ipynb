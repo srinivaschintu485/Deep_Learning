{
 "cells": [
  {
   "cell_type": "markdown",
   "metadata": {
    "id": "GgpOVQ40DPP0"
   },
   "source": [
    "## CSCE 5218 / CSCE 4930 Deep Learning\n",
    "## HW1a The Perceptron"
   ]
  },
  {
   "cell_type": "markdown",
   "metadata": {},
   "source": [
    "# Downloading the datasets"
   ]
  },
  {
   "cell_type": "code",
   "execution_count": 1,
   "metadata": {
    "colab": {
     "base_uri": "https://localhost:8080/"
    },
    "id": "8Cg7O5SNDNRl",
    "outputId": "62a07862-641e-4b38-a805-593267b4e199"
   },
   "outputs": [
    {
     "name": "stdout",
     "output_type": "stream",
     "text": [
      "--2023-02-14 22:15:50--  http://huang.eng.unt.edu/CSCE-5218/train.dat\n",
      "Resolving huang.eng.unt.edu (huang.eng.unt.edu)... 129.120.123.155\n",
      "Connecting to huang.eng.unt.edu (huang.eng.unt.edu)|129.120.123.155|:80... connected.\n",
      "HTTP request sent, awaiting response... 200 OK\n",
      "Length: 11244 (11K)\n",
      "Saving to: ‘train.dat’\n",
      "\n",
      "train.dat           100%[===================>]  10.98K  --.-KB/s    in 0s      \n",
      "\n",
      "2023-02-14 22:15:50 (152 MB/s) - ‘train.dat’ saved [11244/11244]\n",
      "\n",
      "--2023-02-14 22:15:50--  http://huang.eng.unt.edu/CSCE-5218/test.dat\n",
      "Resolving huang.eng.unt.edu (huang.eng.unt.edu)... 129.120.123.155\n",
      "Connecting to huang.eng.unt.edu (huang.eng.unt.edu)|129.120.123.155|:80... connected.\n",
      "HTTP request sent, awaiting response... 200 OK\n",
      "Length: 2844 (2.8K)\n",
      "Saving to: ‘test.dat’\n",
      "\n",
      "test.dat            100%[===================>]   2.78K  --.-KB/s    in 0s      \n",
      "\n",
      "2023-02-14 22:15:51 (328 MB/s) - ‘test.dat’ saved [2844/2844]\n",
      "\n"
     ]
    }
   ],
   "source": [
    "!wget http://huang.eng.unt.edu/CSCE-5218/train.dat\n",
    "!wget http://huang.eng.unt.edu/CSCE-5218/test.dat"
   ]
  },
  {
   "cell_type": "code",
   "execution_count": 2,
   "metadata": {
    "colab": {
     "base_uri": "https://localhost:8080/"
    },
    "id": "4RZI4qziDa0X",
    "outputId": "0c1b2c2d-bcbd-4375-8da4-9bd321e89d02"
   },
   "outputs": [
    {
     "name": "stdout",
     "output_type": "stream",
     "text": [
      "A1\tA2\tA3\tA4\tA5\tA6\tA7\tA8\tA9\tA10\tA11\tA12\tA13\t\n",
      "1\t1\t0\t0\t0\t0\t0\t0\t1\t1\t0\t0\t1\t0\n",
      "0\t0\t1\t1\t0\t1\t1\t0\t0\t0\t0\t0\t1\t0\n",
      "0\t1\t0\t1\t1\t0\t1\t0\t1\t1\t1\t0\t1\t1\n",
      "0\t0\t1\t0\t0\t1\t0\t1\t0\t1\t1\t1\t1\t0\n",
      "0\t1\t0\t0\t0\t0\t0\t1\t1\t1\t1\t1\t1\t0\n",
      "0\t1\t1\t1\t0\t0\t0\t1\t0\t1\t1\t0\t1\t1\n",
      "0\t1\t1\t0\t0\t0\t1\t0\t0\t0\t0\t0\t1\t0\n",
      "0\t0\t0\t1\t1\t0\t1\t1\t1\t0\t0\t0\t1\t0\n",
      "0\t0\t0\t0\t0\t0\t1\t0\t1\t0\t1\t0\t1\t0\n",
      "A1\tA2\tA3\tA4\tA5\tA6\tA7\tA8\tA9\tA10\tA11\tA12\tA13\n",
      "1\t1\t1\t1\t0\t0\t1\t1\t0\t0\t0\t1\t1\t0\n",
      "0\t0\t0\t1\t0\t0\t1\t1\t0\t1\t0\t0\t1\t0\n",
      "0\t1\t1\t1\t0\t1\t1\t1\t1\t0\t0\t0\t1\t0\n",
      "0\t1\t1\t0\t1\t0\t1\t1\t1\t0\t1\t0\t1\t0\n",
      "0\t1\t0\t0\t0\t1\t0\t1\t0\t1\t0\t0\t1\t0\n",
      "0\t1\t1\t0\t0\t1\t1\t1\t1\t1\t1\t0\t1\t0\n",
      "0\t1\t1\t1\t0\t0\t1\t1\t0\t0\t0\t1\t1\t0\n",
      "0\t1\t0\t0\t1\t0\t0\t1\t1\t0\t1\t1\t1\t0\n",
      "1\t1\t1\t1\t0\t0\t1\t1\t0\t0\t0\t0\t1\t0\n"
     ]
    }
   ],
   "source": [
    "# Take a peek at the datasets\n",
    "!head train.dat\n",
    "!head test.dat"
   ]
  },
  {
   "cell_type": "markdown",
   "metadata": {
    "id": "dbHRYvU6D8Aq"
   },
   "source": [
    "**Initializing Libraries**"
   ]
  },
  {
   "cell_type": "code",
   "execution_count": 3,
   "metadata": {
    "id": "uINgyfXTDx4f"
   },
   "outputs": [],
   "source": [
    "import math\n",
    "import itertools\n",
    "import re"
   ]
  },
  {
   "cell_type": "markdown",
   "metadata": {
    "id": "VW0_C8bnEJ_R"
   },
   "source": [
    "**Reading the Data files**"
   ]
  },
  {
   "cell_type": "code",
   "execution_count": 4,
   "metadata": {
    "id": "27h7nOWREB6H"
   },
   "outputs": [],
   "source": [
    "# Corpus reader, all columns but the last one are coordinates;\n",
    "#   the last column is the label\n",
    "def read_data(file_name):\n",
    "    f = open(file_name, 'r')\n",
    "    data = []\n",
    "    # Discard header line\n",
    "    f.readline()\n",
    "    for instance in f.readlines():\n",
    "        if not re.search('\\t', instance): continue\n",
    "        instance = list(map(int, instance.strip().split('\\t')))\n",
    "        # Add a dummy input so that w0 becomes the bias\n",
    "        instance = [-1] + instance\n",
    "        data += [instance]\n",
    "        #print(instance)\n",
    "    return data"
   ]
  },
  {
   "cell_type": "markdown",
   "metadata": {
    "id": "SF6vHFD0Edbl"
   },
   "source": [
    "**Define the dot product function**"
   ]
  },
  {
   "cell_type": "code",
   "execution_count": 5,
   "metadata": {
    "id": "y02kBQDpETga"
   },
   "outputs": [],
   "source": [
    "def dot_product(array1, array2):\n",
    "    # You do not to write code like this, but get used to it\n",
    "    return sum([w * x for w, x in zip(array1, array2)])"
   ]
  },
  {
   "cell_type": "markdown",
   "metadata": {
    "id": "pVz8NfQhElph"
   },
   "source": [
    "**Define the sigmoid**"
   ]
  },
  {
   "cell_type": "code",
   "execution_count": 6,
   "metadata": {
    "id": "4ze-ssr1EhhN"
   },
   "outputs": [],
   "source": [
    "def sigmoid(x):\n",
    "    return 1 / (1 + math.exp(-x))"
   ]
  },
  {
   "cell_type": "markdown",
   "metadata": {
    "id": "CwR8AggmF72O"
   },
   "source": [
    "**Accuracy = percent of correct predictions**"
   ]
  },
  {
   "cell_type": "code",
   "execution_count": 7,
   "metadata": {
    "id": "x7Gpmbz7Epmy"
   },
   "outputs": [],
   "source": [
    "def get_accuracy(weights, instances):\n",
    "    # You do not to write code like this, but get used to it\n",
    "    correct = sum([1 if predict(weights, instance) == instance[-1] else 0\n",
    "                   for instance in instances])\n",
    "    return correct * 100 / len(instances)"
   ]
  },
  {
   "cell_type": "markdown",
   "metadata": {
    "id": "-BugKjdLGcE_"
   },
   "source": [
    "**Predict a new instance; this is the definition of the perceptron**"
   ]
  },
  {
   "cell_type": "code",
   "execution_count": 8,
   "metadata": {
    "id": "2UwB6ocAGQW1"
   },
   "outputs": [],
   "source": [
    "def predict(weights, instance):\n",
    "    if sigmoid(dot_product(weights, instance)) >= 0.5:\n",
    "        return 1\n",
    "    return 0"
   ]
  },
  {
   "cell_type": "markdown",
   "metadata": {
    "id": "g81fgo81dyiZ"
   },
   "source": [
    "**Comment the training function**"
   ]
  },
  {
   "cell_type": "code",
   "execution_count": 12,
   "metadata": {
    "id": "FAbVSKLRGfLS"
   },
   "outputs": [],
   "source": [
    "# Train a perceptron with instances\n",
    "#   and hyperparameters lr (leearning rate) and epochs\n",
    "# The implementation comes from the definition of the perceptron\n",
    "# Training consists on fitting the parameters\n",
    "#   The parameters are the weights, that's the only thing training is responsible to fit\n",
    "#     (recall that w0 is the bias, and w1..wn are the weights for each coordinate)\n",
    "#   Hyperparameters (lr and epochs) are given to the training algorithm\n",
    "# We are updating weights in the opposite direction of the gradient of the error,\n",
    "#   so with a \"decent\" lr we are guaranteed to reduce the error after each iteration.\n",
    "def train_perceptron(instances, lr, epochs): #Defining a function name with train_perceptron\n",
    "    weights = [0] * (len(instances[0])-1)    #Initializing all the weights with zeros\n",
    "    # weights = [0, 0, 0, ...,  0]\n",
    "\n",
    "    while epochs > 0:                                       #If number of epochs are greater than zero\n",
    "        for instance in instances:\n",
    "            in_value = dot_product(weights, instance)       #calling the function dot product\n",
    "            output = sigmoid(in_value)                      #Calling the activation function(sigmoid)\n",
    "            error = instance[-1] - output\n",
    "            for i in range(0, len(weights)):                                    #Creating a loop to update the weight values\n",
    "                weights[i] += lr * error * output * (1-output) * instance[i]    #Updating the weight values\n",
    "\n",
    "        epochs -= 1                                                             #After every loop, the number of epoches gets reduces\n",
    "        if epochs == 0:                                                         #If number of epochs equal to zero\n",
    "            break                                                               #Then the loop gets break\n",
    "\n",
    "    return weights                                                              #Returning the updated weight values"
   ]
  },
  {
   "cell_type": "code",
   "execution_count": 10,
   "metadata": {
    "id": "yBpywfXGGtzV"
   },
   "outputs": [],
   "source": [
    "instances_tr = read_data(\"train.dat\")\n",
    "instances_te = read_data(\"test.dat\")\n"
   ]
  },
  {
   "cell_type": "markdown",
   "metadata": {
    "id": "3FIilyiNeb0r"
   },
   "source": [
    "**Run It**"
   ]
  },
  {
   "cell_type": "code",
   "execution_count": 11,
   "metadata": {
    "colab": {
     "base_uri": "https://localhost:8080/"
    },
    "id": "9hFefDqSG0nr",
    "outputId": "3fe0a36f-56c6-4821-bcbb-863ffb264ba8"
   },
   "outputs": [
    {
     "name": "stdout",
     "output_type": "stream",
     "text": [
      "#tr: 400, epochs:   5, learning rate: 0.005; Accuracy (test, 100 instances): 68.0\n"
     ]
    }
   ],
   "source": [
    "lr = 0.005\n",
    "epochs = 5\n",
    "weights = train_perceptron(instances_tr, lr, epochs)\n",
    "accuracy = get_accuracy(weights, instances_te)\n",
    "print(f\"#tr: {len(instances_tr):3}, epochs: {epochs:3}, learning rate: {lr:.3f}; \"\n",
    "      f\"Accuracy (test, {len(instances_te)} instances): {accuracy:.1f}\")"
   ]
  },
  {
   "cell_type": "markdown",
   "metadata": {
    "id": "jklaVPaIWJ6r"
   },
   "source": [
    "## Questions Answer the following questions.Include your implementation and the output for each question.##"
   ]
  },
  {
   "cell_type": "markdown",
   "metadata": {
    "id": "wIoDLep-WZmN"
   },
   "source": [
    "Question 1\n",
    "# In train_perceptron(instances, lr, epochs), we have the following code:#\n",
    "TODO Add your answer here (text only)"
   ]
  },
  {
   "cell_type": "code",
   "execution_count": 12,
   "metadata": {
    "id": "rRyV8Y7sW02l"
   },
   "outputs": [],
   "source": [
    "in_value = dot_product(weights, instance)\n",
    "output = sigmoid(in_value)\n",
    "error = instance[-1] - output"
   ]
  },
  {
   "cell_type": "markdown",
   "metadata": {
    "id": "ogM2XscHW7Ke"
   },
   "source": [
    "# Why don't we have the following code snippet instead?#"
   ]
  },
  {
   "cell_type": "code",
   "execution_count": 12,
   "metadata": {
    "id": "xpNMSmNuW-1_"
   },
   "outputs": [],
   "source": [
    "output = predict(weights, instance)\n",
    "error = instance[-1] - output"
   ]
  },
  {
   "cell_type": "markdown",
   "metadata": {
    "id": "Z-ZNKIsQbHBN"
   },
   "source": [
    "**Answer**"
   ]
  },
  {
   "cell_type": "markdown",
   "metadata": {
    "id": "DJ0P60xoXXHM"
   },
   "source": [
    "# When employed to introduce non-linearity to a machine learning model, the sigmoid function serves as an activation function in the field of artificial intelligence. To put it simply, the function chooses which values to pass as output and which ones not to.In contrast to a neuron-based model seen in human brains, the activation function determines what signals should be sent to the following neuron at the very end.\n",
    "\n",
    "## Hence without activation function neural network doesn't learn anything."
   ]
  },
  {
   "cell_type": "markdown",
   "metadata": {
    "id": "2pGX4PsKbgXa"
   },
   "source": [
    "# Question 2 #\n",
    "\n",
    "# Train the perceptron with the following hyperparameters and calculate the accuracy with the test dataset.#"
   ]
  },
  {
   "cell_type": "code",
   "execution_count": 13,
   "metadata": {
    "id": "9bNQPZiTbfrR"
   },
   "outputs": [],
   "source": [
    "tr_percent = [5, 10, 25, 50, 75, 100] # percent of the training dataset to train with\n",
    "num_epochs = [5, 10, 20, 50, 100]              # number of epochs\n",
    "lr = [0.005, 0.01, 0.05]              # learning rate"
   ]
  },
  {
   "cell_type": "code",
   "execution_count": 16,
   "metadata": {
    "colab": {
     "base_uri": "https://localhost:8080/"
    },
    "id": "8CyW9ZSLW_Vx",
    "outputId": "128c88ea-5554-4f9d-b9a7-496858be7073"
   },
   "outputs": [
    {
     "name": "stdout",
     "output_type": "stream",
     "text": [
      "#tr:  20, epochs:   5, learning rate: 0.005; Accuracy (test, 100 instances): 68.0\n",
      "#tr:  20, epochs:   5, learning rate: 0.010; Accuracy (test, 100 instances): 68.0\n",
      "#tr:  20, epochs:   5, learning rate: 0.050; Accuracy (test, 100 instances): 68.0\n",
      "#tr:  20, epochs:  10, learning rate: 0.005; Accuracy (test, 100 instances): 68.0\n",
      "#tr:  20, epochs:  10, learning rate: 0.010; Accuracy (test, 100 instances): 68.0\n",
      "#tr:  20, epochs:  10, learning rate: 0.050; Accuracy (test, 100 instances): 68.0\n",
      "#tr:  20, epochs:  20, learning rate: 0.005; Accuracy (test, 100 instances): 68.0\n",
      "#tr:  20, epochs:  20, learning rate: 0.010; Accuracy (test, 100 instances): 68.0\n",
      "#tr:  20, epochs:  20, learning rate: 0.050; Accuracy (test, 100 instances): 68.0\n",
      "#tr:  20, epochs:  50, learning rate: 0.005; Accuracy (test, 100 instances): 68.0\n",
      "#tr:  20, epochs:  50, learning rate: 0.010; Accuracy (test, 100 instances): 68.0\n",
      "#tr:  20, epochs:  50, learning rate: 0.050; Accuracy (test, 100 instances): 68.0\n",
      "#tr:  20, epochs: 100, learning rate: 0.005; Accuracy (test, 100 instances): 68.0\n",
      "#tr:  20, epochs: 100, learning rate: 0.010; Accuracy (test, 100 instances): 68.0\n",
      "#tr:  20, epochs: 100, learning rate: 0.050; Accuracy (test, 100 instances): 64.0\n",
      "#tr:  40, epochs:   5, learning rate: 0.005; Accuracy (test, 100 instances): 68.0\n",
      "#tr:  40, epochs:   5, learning rate: 0.010; Accuracy (test, 100 instances): 68.0\n",
      "#tr:  40, epochs:   5, learning rate: 0.050; Accuracy (test, 100 instances): 68.0\n",
      "#tr:  40, epochs:  10, learning rate: 0.005; Accuracy (test, 100 instances): 68.0\n",
      "#tr:  40, epochs:  10, learning rate: 0.010; Accuracy (test, 100 instances): 68.0\n",
      "#tr:  40, epochs:  10, learning rate: 0.050; Accuracy (test, 100 instances): 68.0\n",
      "#tr:  40, epochs:  20, learning rate: 0.005; Accuracy (test, 100 instances): 68.0\n",
      "#tr:  40, epochs:  20, learning rate: 0.010; Accuracy (test, 100 instances): 68.0\n",
      "#tr:  40, epochs:  20, learning rate: 0.050; Accuracy (test, 100 instances): 68.0\n",
      "#tr:  40, epochs:  50, learning rate: 0.005; Accuracy (test, 100 instances): 68.0\n",
      "#tr:  40, epochs:  50, learning rate: 0.010; Accuracy (test, 100 instances): 68.0\n",
      "#tr:  40, epochs:  50, learning rate: 0.050; Accuracy (test, 100 instances): 71.0\n",
      "#tr:  40, epochs: 100, learning rate: 0.005; Accuracy (test, 100 instances): 68.0\n",
      "#tr:  40, epochs: 100, learning rate: 0.010; Accuracy (test, 100 instances): 68.0\n",
      "#tr:  40, epochs: 100, learning rate: 0.050; Accuracy (test, 100 instances): 69.0\n",
      "#tr: 100, epochs:   5, learning rate: 0.005; Accuracy (test, 100 instances): 68.0\n",
      "#tr: 100, epochs:   5, learning rate: 0.010; Accuracy (test, 100 instances): 68.0\n",
      "#tr: 100, epochs:   5, learning rate: 0.050; Accuracy (test, 100 instances): 68.0\n",
      "#tr: 100, epochs:  10, learning rate: 0.005; Accuracy (test, 100 instances): 68.0\n",
      "#tr: 100, epochs:  10, learning rate: 0.010; Accuracy (test, 100 instances): 68.0\n",
      "#tr: 100, epochs:  10, learning rate: 0.050; Accuracy (test, 100 instances): 67.0\n",
      "#tr: 100, epochs:  20, learning rate: 0.005; Accuracy (test, 100 instances): 68.0\n",
      "#tr: 100, epochs:  20, learning rate: 0.010; Accuracy (test, 100 instances): 68.0\n",
      "#tr: 100, epochs:  20, learning rate: 0.050; Accuracy (test, 100 instances): 70.0\n",
      "#tr: 100, epochs:  50, learning rate: 0.005; Accuracy (test, 100 instances): 68.0\n",
      "#tr: 100, epochs:  50, learning rate: 0.010; Accuracy (test, 100 instances): 68.0\n",
      "#tr: 100, epochs:  50, learning rate: 0.050; Accuracy (test, 100 instances): 74.0\n",
      "#tr: 100, epochs: 100, learning rate: 0.005; Accuracy (test, 100 instances): 68.0\n",
      "#tr: 100, epochs: 100, learning rate: 0.010; Accuracy (test, 100 instances): 71.0\n",
      "#tr: 100, epochs: 100, learning rate: 0.050; Accuracy (test, 100 instances): 77.0\n",
      "#tr: 200, epochs:   5, learning rate: 0.005; Accuracy (test, 100 instances): 68.0\n",
      "#tr: 200, epochs:   5, learning rate: 0.010; Accuracy (test, 100 instances): 68.0\n",
      "#tr: 200, epochs:   5, learning rate: 0.050; Accuracy (test, 100 instances): 71.0\n",
      "#tr: 200, epochs:  10, learning rate: 0.005; Accuracy (test, 100 instances): 68.0\n",
      "#tr: 200, epochs:  10, learning rate: 0.010; Accuracy (test, 100 instances): 68.0\n",
      "#tr: 200, epochs:  10, learning rate: 0.050; Accuracy (test, 100 instances): 77.0\n",
      "#tr: 200, epochs:  20, learning rate: 0.005; Accuracy (test, 100 instances): 68.0\n",
      "#tr: 200, epochs:  20, learning rate: 0.010; Accuracy (test, 100 instances): 68.0\n",
      "#tr: 200, epochs:  20, learning rate: 0.050; Accuracy (test, 100 instances): 78.0\n",
      "#tr: 200, epochs:  50, learning rate: 0.005; Accuracy (test, 100 instances): 67.0\n",
      "#tr: 200, epochs:  50, learning rate: 0.010; Accuracy (test, 100 instances): 74.0\n",
      "#tr: 200, epochs:  50, learning rate: 0.050; Accuracy (test, 100 instances): 78.0\n",
      "#tr: 200, epochs: 100, learning rate: 0.005; Accuracy (test, 100 instances): 74.0\n",
      "#tr: 200, epochs: 100, learning rate: 0.010; Accuracy (test, 100 instances): 78.0\n",
      "#tr: 200, epochs: 100, learning rate: 0.050; Accuracy (test, 100 instances): 76.0\n",
      "#tr: 300, epochs:   5, learning rate: 0.005; Accuracy (test, 100 instances): 68.0\n",
      "#tr: 300, epochs:   5, learning rate: 0.010; Accuracy (test, 100 instances): 68.0\n",
      "#tr: 300, epochs:   5, learning rate: 0.050; Accuracy (test, 100 instances): 74.0\n",
      "#tr: 300, epochs:  10, learning rate: 0.005; Accuracy (test, 100 instances): 68.0\n",
      "#tr: 300, epochs:  10, learning rate: 0.010; Accuracy (test, 100 instances): 68.0\n",
      "#tr: 300, epochs:  10, learning rate: 0.050; Accuracy (test, 100 instances): 78.0\n",
      "#tr: 300, epochs:  20, learning rate: 0.005; Accuracy (test, 100 instances): 68.0\n",
      "#tr: 300, epochs:  20, learning rate: 0.010; Accuracy (test, 100 instances): 70.0\n",
      "#tr: 300, epochs:  20, learning rate: 0.050; Accuracy (test, 100 instances): 79.0\n",
      "#tr: 300, epochs:  50, learning rate: 0.005; Accuracy (test, 100 instances): 74.0\n",
      "#tr: 300, epochs:  50, learning rate: 0.010; Accuracy (test, 100 instances): 78.0\n",
      "#tr: 300, epochs:  50, learning rate: 0.050; Accuracy (test, 100 instances): 78.0\n",
      "#tr: 300, epochs: 100, learning rate: 0.005; Accuracy (test, 100 instances): 78.0\n",
      "#tr: 300, epochs: 100, learning rate: 0.010; Accuracy (test, 100 instances): 80.0\n",
      "#tr: 300, epochs: 100, learning rate: 0.050; Accuracy (test, 100 instances): 77.0\n",
      "#tr: 400, epochs:   5, learning rate: 0.005; Accuracy (test, 100 instances): 68.0\n",
      "#tr: 400, epochs:   5, learning rate: 0.010; Accuracy (test, 100 instances): 68.0\n",
      "#tr: 400, epochs:   5, learning rate: 0.050; Accuracy (test, 100 instances): 69.0\n",
      "#tr: 400, epochs:  10, learning rate: 0.005; Accuracy (test, 100 instances): 68.0\n",
      "#tr: 400, epochs:  10, learning rate: 0.010; Accuracy (test, 100 instances): 69.0\n",
      "#tr: 400, epochs:  10, learning rate: 0.050; Accuracy (test, 100 instances): 76.0\n",
      "#tr: 400, epochs:  20, learning rate: 0.005; Accuracy (test, 100 instances): 69.0\n",
      "#tr: 400, epochs:  20, learning rate: 0.010; Accuracy (test, 100 instances): 70.0\n",
      "#tr: 400, epochs:  20, learning rate: 0.050; Accuracy (test, 100 instances): 80.0\n",
      "#tr: 400, epochs:  50, learning rate: 0.005; Accuracy (test, 100 instances): 73.0\n",
      "#tr: 400, epochs:  50, learning rate: 0.010; Accuracy (test, 100 instances): 77.0\n",
      "#tr: 400, epochs:  50, learning rate: 0.050; Accuracy (test, 100 instances): 80.0\n",
      "#tr: 400, epochs: 100, learning rate: 0.005; Accuracy (test, 100 instances): 77.0\n",
      "#tr: 400, epochs: 100, learning rate: 0.010; Accuracy (test, 100 instances): 80.0\n",
      "#tr: 400, epochs: 100, learning rate: 0.050; Accuracy (test, 100 instances): 80.0\n"
     ]
    }
   ],
   "source": [
    "Accuracies=[]\n",
    "for x in range(len(tr_percent)):\n",
    "  data=int(float(tr_percent[x])*0.01*400)\n",
    "  training=instances_tr[0:data]\n",
    "  for y in range(len(num_epochs)):\n",
    "    epochs=num_epochs[y]\n",
    "    for z in range(len(lr)):\n",
    "      lr1=lr[z]\n",
    "      weights = train_perceptron(training, lr1, epochs)\n",
    "      accuracy = get_accuracy(weights, instances_te)\n",
    "      Accuracies.append(accuracy)\n",
    "      print(f\"#tr: {len(training):3}, epochs: {epochs:3}, learning rate: {lr1:.3f}; \"f\"Accuracy (test, {len(instances_te)} instances): {accuracy:.1f}\")"
   ]
  },
  {
   "cell_type": "code",
   "execution_count": 15,
   "metadata": {
    "id": "s_5bpskktT5L"
   },
   "outputs": [],
   "source": [
    "\n",
    "import matplotlib.pyplot as plt\n",
    "import numpy as np"
   ]
  },
  {
   "cell_type": "markdown",
   "metadata": {
    "id": "10J8Kcshzbuy"
   },
   "source": [
    "# Question 3. Write a couple paragraphs interpreting the results with all the combinations of hyperparameters. Drawing a plot will probably help you make a point. In particular, answer the following: #"
   ]
  },
  {
   "cell_type": "code",
   "execution_count": 96,
   "metadata": {
    "colab": {
     "base_uri": "https://localhost:8080/",
     "height": 317
    },
    "id": "Zavc54oJfjV2",
    "outputId": "3d01fac0-8bb2-4a73-a23c-31f78a283fcd"
   },
   "outputs": [
    {
     "data": {
      "image/png": "[encoded data removed]",
      "text/plain": [
       "<Figure size 1800x360 with 1 Axes>"
      ]
     },
     "metadata": {
      "needs_background": "light"
     },
     "output_type": "display_data"
    }
   ],
   "source": [
    "plt.rcParams['figure.figsize'] = [25, 5]\n",
    "i = np.array([1, 90])\n",
    "\n",
    "plt.plot(Accuracies)\n",
    "plt.show()"
   ]
  },
  {
   "cell_type": "markdown",
   "metadata": {
    "id": "RW1DR2axfKW0"
   },
   "source": [
    "# **From the above figure it is clear that with the combination of distinct parameters,that too the parameters with the maximum values,it predicts the high accuracy. From the outcome of 16th shell it is clear that when the training set of the dataset is only 5% of the data, there is no effect of hyperparameters but there is small hike in accuracy with the learning rate of 0.05, and then for every combination with epochs=100 and learning rate=0.05 there is a maximum outcome. Yet,there are also instances where the accuracy decreases with the increase in learning rate,presumably the reason is that it could miss the local minima**"
   ]
  },
  {
   "cell_type": "markdown",
   "metadata": {
    "id": "0_wr4JZVzuZ4"
   },
   "source": [
    "# A. Do you need to train with all the training dataset to get the highest accuracy with the test dataset?#"
   ]
  },
  {
   "cell_type": "markdown",
   "metadata": {
    "id": "NqP7HtcplkKp"
   },
   "source": [
    "## It can be infer from the following code that, even with the dataset of 75% and learning rate =0.01, it gives the maximum accuracy, hence it is not necessary to have 100% data"
   ]
  },
  {
   "cell_type": "code",
   "execution_count": 29,
   "metadata": {
    "id": "nwKCd8KH3Jm5"
   },
   "outputs": [],
   "source": [
    "tr_percent = [ 75] # percent of the training dataset to train with\n",
    "num_epochs = [5, 10, 20, 50, 100]              # number of epochs\n",
    "lr = [ 0.01]              # learning rate"
   ]
  },
  {
   "cell_type": "code",
   "execution_count": 30,
   "metadata": {
    "id": "oicpWK9d3XTi"
   },
   "outputs": [],
   "source": [
    "Accuracies=[]\n",
    "for x in range(len(tr_percent)):\n",
    "  data=int(float(tr_percent[x])*0.01*400)\n",
    "  training=instances_tr[0:data]\n",
    "  for y in range(len(num_epochs)):\n",
    "    epochs=num_epochs[y]\n",
    "    for z in range(len(lr)):\n",
    "      lr1=lr[z]\n",
    "      weights = train_perceptron(training, lr1, epochs)\n",
    "      accuracy = get_accuracy(weights, instances_te)\n",
    "      Accuracies.append(accuracy)"
   ]
  },
  {
   "cell_type": "code",
   "execution_count": 31,
   "metadata": {
    "colab": {
     "base_uri": "https://localhost:8080/",
     "height": 317
    },
    "id": "pQMrFDBI0Ler",
    "outputId": "aeb35f80-1d16-402b-e54c-edfe2d724610"
   },
   "outputs": [
    {
     "data": {
      "image/png": "[encoded data removed]",
      "text/plain": [
       "<Figure size 1800x360 with 1 Axes>"
      ]
     },
     "metadata": {
      "needs_background": "light"
     },
     "output_type": "display_data"
    }
   ],
   "source": [
    "plt.rcParams['figure.figsize'] = [25, 5]\n",
    "i = np.array([1, 90])\n",
    "\n",
    "plt.plot(Accuracies)\n",
    "plt.show()"
   ]
  },
  {
   "cell_type": "code",
   "execution_count": 130,
   "metadata": {
    "id": "_j3IaVUh2ESE"
   },
   "outputs": [],
   "source": [
    "tr_percent = [5, 10, 25, 50, 75, 100] # percent of the training dataset to train with\n",
    "num_epochs = [5, 10, 20, 50, 100]     # number of epochs\n",
    "lr = [0.005, 0.01, 0.05]              # learning rate"
   ]
  },
  {
   "cell_type": "markdown",
   "metadata": {
    "id": "QwwzxX7l06mj"
   },
   "source": [
    "## B How do you justify that training the second run obtains worse accuracy than the first one (despite the second one uses more training data)?##"
   ]
  },
  {
   "cell_type": "markdown",
   "metadata": {
    "id": "DX1OzHKtmuEx"
   },
   "source": [
    "# tr: 100, epochs:  20, learning rate: 0.050; Accuracy (test, 100 instances): 71.0\n",
    "# tr: 200, epochs:  20, learning rate: 0.005; Accuracy (test, 100 instances): 68.0"
   ]
  },
  {
   "cell_type": "markdown",
   "metadata": {
    "id": "mgj9NZgRo41V"
   },
   "source": [
    "# When the learning rate is too small there is chance that vanishing gradient problem may encounter which makes the algorithm to not to learn anything and there by decreases the accuracy, in other words very small learning rate leads to very much time to converge, and there is chance that it leads to vanish gradient which reduces the accuracy."
   ]
  },
  {
   "cell_type": "markdown",
   "metadata": {
    "id": "932_eLQg2eVZ"
   },
   "source": [
    "# C. Can you get higher accuracy with additional hyperparameters (higher than 80.0)?#"
   ]
  },
  {
   "cell_type": "markdown",
   "metadata": {
    "id": "57Nil6GonYO7"
   },
   "source": [
    "# ** Yes, it is possible, as we increase the number of hidden layers, presumably we can expect accuracy more than 80%**"
   ]
  },
  {
   "cell_type": "markdown",
   "metadata": {
    "id": "RaBN-Weq2l2D"
   },
   "source": [
    "# D. Is it always worth training for more epochs (while keeping all other hyperparameters fixed)? #"
   ]
  },
  {
   "cell_type": "code",
   "execution_count": 59,
   "metadata": {
    "id": "DPDS7Rx_2m6f"
   },
   "outputs": [],
   "source": [
    "tr_percent = [5, 10, 25, 50, 75, 100] # percent of the training dataset to train with\n",
    "num_epochs = [ 100]              # number of epochs\n",
    "lr = [0.005]              # learning rate"
   ]
  },
  {
   "cell_type": "code",
   "execution_count": 60,
   "metadata": {
    "id": "tSaGzUgLoOJT"
   },
   "outputs": [],
   "source": [
    "Accuracies=[]\n",
    "for x in range(len(tr_percent)):\n",
    "  data=int(float(tr_percent[x])*0.01*400)\n",
    "  training=instances_tr[0:data]\n",
    "  for y in range(len(num_epochs)):\n",
    "    epochs=num_epochs[y]\n",
    "    for z in range(len(lr)):\n",
    "      lr1=lr[z]\n",
    "      weights = train_perceptron(training, lr1, epochs)\n",
    "      accuracy = get_accuracy(weights, instances_te)\n",
    "      Accuracies.append(accuracy)"
   ]
  },
  {
   "cell_type": "code",
   "execution_count": 61,
   "metadata": {
    "colab": {
     "base_uri": "https://localhost:8080/",
     "height": 340
    },
    "id": "CFmNeqzroRZU",
    "outputId": "9321f139-b562-4cb7-b428-f77e9746fbc9"
   },
   "outputs": [
    {
     "data": {
      "image/png": "[encoded data removed]",
      "text/plain": [
       "<Figure size 1800x360 with 1 Axes>"
      ]
     },
     "metadata": {
      "needs_background": "light"
     },
     "output_type": "display_data"
    }
   ],
   "source": [
    "plt.rcParams['figure.figsize'] = [25, 5]\n",
    "i = np.array([1, 90])\n",
    "\n",
    "plt.plot(Accuracies)\n",
    "plt.show()"
   ]
  },
  {
   "cell_type": "markdown",
   "metadata": {
    "id": "G4vmOs_JrJE-"
   },
   "source": [
    "**We cannot expect high accuracy with the number of epochs, as we increase the number of epochs there may be a chance of overfitting, which leads to reduction in accuracy**"
   ]
  },
  {
   "cell_type": "code",
   "execution_count": 46,
   "metadata": {
    "id": "pWQDk1SxoTLp"
   },
   "outputs": [],
   "source": []
  }
 ],
 "metadata": {
  "colab": {
   "provenance": []
  },
  "kernelspec": {
   "display_name": "Python 3 (ipykernel)",
   "language": "python",
   "name": "python3"
  },
  "language_info": {
   "codemirror_mode": {
    "name": "ipython",
    "version": 3
   },
   "file_extension": ".py",
   "mimetype": "text/x-python",
   "name": "python",
   "nbconvert_exporter": "python",
   "pygments_lexer": "ipython3",
   "version": "3.9.7"
  },
  "vscode": {
   "interpreter": {
    "hash": "28f9a830c02706660da7e65dfeb19afeb10f69dea0f0d44b2753587263148dd2"
   }
  }
 },
 "nbformat": 4,
 "nbformat_minor": 1
}
